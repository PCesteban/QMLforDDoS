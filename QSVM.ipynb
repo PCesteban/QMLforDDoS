{
 "cells": [
  {
   "cell_type": "code",
   "execution_count": 1,
   "metadata": {},
   "outputs": [],
   "source": [
    "import numpy as np\n",
    "import scipy\n",
    "from scipy.linalg import expm\n",
    "import matplotlib.pyplot as plt\n",
    "from mpl_toolkits.mplot3d import Axes3D\n",
    "from sklearn import datasets\n",
    "from sklearn.model_selection import train_test_split\n",
    "from sklearn.preprocessing import StandardScaler, MinMaxScaler\n",
    "from sklearn.decomposition import PCA"
   ]
  },
  {
   "cell_type": "code",
   "execution_count": 2,
   "metadata": {},
   "outputs": [],
   "source": [
    "import pandas as pd\n",
    "\n",
    "def SSDP_DDoS(training_size, test_size, n, PLOT_DATA=True):\n",
    "    class_labels = [r'BENING', r'DrDoS_SSDP']\n",
    "    \n",
    "    data = pd.read_csv('DrDoS_SSDP_features_removed.csv', skiprows=[i for i in range(1,141550)], skipfooter=141547, engine=\"python\")\n",
    "    x = StandardScaler().fit_transform(np.array(data.drop(columns=['Label'])))\n",
    "    y = np.array(data['Label'].astype('category').cat.codes.astype(int))\n",
    "    \n",
    "    X_train, X_test, Y_train, Y_test = train_test_split(x, y, stratify=y, test_size=0.3, random_state=109)\n",
    "   \n",
    "    pca = PCA(n_components=n).fit(X_train)\n",
    "    X_train = pca.transform(X_train)\n",
    "    X_test = pca.transform(X_test)\n",
    "   \n",
    "    samples = np.append(X_train, X_test, axis=0)\n",
    "    minmax_scale = MinMaxScaler((-1, 1)).fit(samples)\n",
    "    X_train = minmax_scale.transform(X_train)\n",
    "    X_test = minmax_scale.transform(X_test)\n",
    "\n",
    "    training_input = {key: (X_train[Y_train == k, :])[:training_size] for k, key in enumerate(class_labels)}\n",
    "    test_input = {key: (X_test[Y_test == k, :])[:test_size] for k, key in enumerate(class_labels)}\n",
    "    \n",
    "    if PLOT_DATA:\n",
    "        for k in range(0, 2):\n",
    "            x_axis_data = X_train[Y_train == k, 0][:training_size]\n",
    "            y_axis_data = X_train[Y_train == k, 1][:training_size]\n",
    "            label = 'DDoS' if k == 1 else 'Benign'\n",
    "            plt.scatter(x_axis_data, y_axis_data, label=label)\n",
    "\n",
    "        plt.title(\"DDoS_SSDP Dataset (Dimensionality Reduced With PCA)\")\n",
    "        plt.legend()\n",
    "        plt.show()\n",
    "        \n",
    "\n",
    "    return X_train, training_input, test_input, class_labels"
   ]
  },
  {
   "cell_type": "code",
   "execution_count": 3,
   "metadata": {
    "scrolled": true
   },
   "outputs": [
    {
     "data": {
      "image/png": "[encoded data removed]",
      "text/plain": [
       "<Figure size 432x288 with 1 Axes>"
      ]
     },
     "metadata": {
      "needs_background": "light"
     },
     "output_type": "display_data"
    },
    {
     "name": "stdout",
     "output_type": "stream",
     "text": [
      "{'BENING': 0, 'DrDoS_SSDP': 1}\n"
     ]
    }
   ],
   "source": [
    "from qiskit.aqua.utils import split_dataset_to_data_and_labels\n",
    "\n",
    "n = 2 # How many features to use (dimensionality)\n",
    "training_dataset_size = 1033\n",
    "testing_dataset_size = 443\n",
    "\n",
    "sample_Total, training_input, test_input, class_labels = SSDP_DDoS(training_dataset_size, testing_dataset_size, n)\n",
    "\n",
    "datapoints, class_to_label = split_dataset_to_data_and_labels(test_input)\n",
    "print(class_to_label)"
   ]
  },
  {
   "cell_type": "code",
   "execution_count": 4,
   "metadata": {},
   "outputs": [],
   "source": [
    "%load_ext memory_profiler"
   ]
  },
  {
   "cell_type": "code",
   "execution_count": 5,
   "metadata": {},
   "outputs": [],
   "source": [
    "from qiskit import BasicAer\n",
    "from qiskit.ml.datasets import *\n",
    "from qiskit.circuit.library import ZZFeatureMap\n",
    "from qiskit.aqua.utils import split_dataset_to_data_and_labels, map_label_to_class_name\n",
    "from qiskit.aqua import QuantumInstance\n",
    "from qiskit.aqua.algorithms import QSVM\n",
    "\n",
    "seed = 10598\n",
    "\n",
    "\n",
    "feature_map =  ZZFeatureMap(feature_dimension=2, reps=2, entanglement='linear')\n",
    "qsvm = QSVM(feature_map, training_input, test_input, datapoints[0])\n",
    "\n",
    "backend = BasicAer.get_backend('statevector_simulator')\n",
    "quantum_instance = QuantumInstance(backend, shots=1024, seed_simulator=seed, seed_transpiler=seed)"
   ]
  },
  {
   "cell_type": "code",
   "execution_count": 6,
   "metadata": {},
   "outputs": [
    {
     "name": "stdout",
     "output_type": "stream",
     "text": [
      "peak memory: 5874.83 MiB, increment: 5528.37 MiB\n",
      "CPU times: user 2d 2h 49min 10s, sys: 2h 16min 24s, total: 2d 5h 5min 34s\n",
      "Wall time: 2d 6h 49min 41s\n"
     ]
    }
   ],
   "source": [
    "%%time\n",
    "%memit result2 = qsvm.run(quantum_instance)"
   ]
  },
  {
   "cell_type": "code",
   "execution_count": 7,
   "metadata": {
    "scrolled": true
   },
   "outputs": [
    {
     "name": "stdout",
     "output_type": "stream",
     "text": [
      "ground truth:    [0 0 0 0 0 0 0 0 0 0 0 0 0 0 0 0 0 0 0 0 0 0 0 0 0 0 0 0 0 0 0 0 0 0 0 0 0\n",
      " 0 0 0 0 0 0 0 0 0 0 0 0 0 0 0 0 0 0 0 0 0 0 0 0 0 0 0 0 0 0 0 0 0 0 0 0 0\n",
      " 0 0 0 0 0 0 0 0 0 0 0 0 0 0 0 0 0 0 0 0 0 0 0 0 0 0 0 0 0 0 0 0 0 0 0 0 0\n",
      " 0 0 0 0 0 0 0 0 0 0 0 0 0 0 0 0 0 0 0 0 0 0 0 0 0 0 0 0 0 0 0 0 0 0 0 0 0\n",
      " 0 0 0 0 0 0 0 0 0 0 0 0 0 0 0 0 0 0 0 0 0 0 0 0 0 0 0 0 0 0 0 0 0 0 0 0 0\n",
      " 0 0 0 0 0 0 0 0 0 0 0 0 0 0 0 0 0 0 0 0 0 0 0 0 0 0 0 0 0 0 0 0 0 0 0 0 0\n",
      " 0 0 0 0 0 0 0 0 0 0 0 0 0 0 0 0 0 0 0 0 0 0 0 0 0 0 0 0 0 0 0 0 0 0 0 0 0\n",
      " 0 0 0 0 0 0 0 0 0 0 0 0 0 0 0 0 0 0 0 0 0 0 0 0 0 0 0 0 0 0 0 0 0 0 0 0 0\n",
      " 0 0 0 0 0 0 0 0 0 0 0 0 0 0 0 0 0 0 0 0 0 0 0 0 0 0 0 0 0 0 0 0 0 0 0 0 0\n",
      " 0 0 0 0 0 0 0 0 0 0 0 0 0 0 0 0 0 0 0 0 0 0 0 0 0 0 0 0 0 0 0 0 0 0 0 0 0\n",
      " 0 0 0 0 0 0 0 0 0 0 0 0 0 0 0 0 0 0 0 0 0 0 0 0 0 0 0 0 0 0 0 0 0 0 0 0 0\n",
      " 0 0 0 0 0 0 0 0 0 0 0 0 0 0 0 0 0 0 0 0 0 0 0 0 0 0 0 0 0 0 0 0 0 0 0 1 1\n",
      " 1 1 1 1 1 1 1 1 1 1 1 1 1 1 1 1 1 1 1 1 1 1 1 1 1 1 1 1 1 1 1 1 1 1 1 1 1\n",
      " 1 1 1 1 1 1 1 1 1 1 1 1 1 1 1 1 1 1 1 1 1 1 1 1 1 1 1 1 1 1 1 1 1 1 1 1 1\n",
      " 1 1 1 1 1 1 1 1 1 1 1 1 1 1 1 1 1 1 1 1 1 1 1 1 1 1 1 1 1 1 1 1 1 1 1 1 1\n",
      " 1 1 1 1 1 1 1 1 1 1 1 1 1 1 1 1 1 1 1 1 1 1 1 1 1 1 1 1 1 1 1 1 1 1 1 1 1\n",
      " 1 1 1 1 1 1 1 1 1 1 1 1 1 1 1 1 1 1 1 1 1 1 1 1 1 1 1 1 1 1 1 1 1 1 1 1 1\n",
      " 1 1 1 1 1 1 1 1 1 1 1 1 1 1 1 1 1 1 1 1 1 1 1 1 1 1 1 1 1 1 1 1 1 1 1 1 1\n",
      " 1 1 1 1 1 1 1 1 1 1 1 1 1 1 1 1 1 1 1 1 1 1 1 1 1 1 1 1 1 1 1 1 1 1 1 1 1\n",
      " 1 1 1 1 1 1 1 1 1 1 1 1 1 1 1 1 1 1 1 1 1 1 1 1 1 1 1 1 1 1 1 1 1 1 1 1 1\n",
      " 1 1 1 1 1 1 1 1 1 1 1 1 1 1 1 1 1 1 1 1 1 1 1 1 1 1 1 1 1 1 1 1 1 1 1 1 1\n",
      " 1 1 1 1 1 1 1 1 1 1 1 1 1 1 1 1 1 1 1 1 1 1 1 1 1 1 1 1 1 1 1 1 1 1 1 1 1\n",
      " 1 1 1 1 1 1 1 1 1 1 1 1 1 1 1 1 1 1 1 1 1 1 1 1 1 1 1 1 1 1 1 1 1 1 1 1 1\n",
      " 1 1 1 1 1 1 1 1 1 1 1 1 1 1 1 1 1 1 1 1 1 1 1 1 1 1 1 1 1 1 1 1 1 1]\n",
      "prediction:      [0 0 0 0 0 0 0 0 0 0 0 0 0 0 0 0 0 0 0 0 0 0 0 0 0 0 0 1 0 0 0 0 0 0 0 0 0\n",
      " 0 0 0 0 0 0 0 0 0 0 0 0 0 0 0 0 0 0 0 0 0 0 0 0 0 0 0 0 0 0 0 0 0 0 0 0 0\n",
      " 0 0 0 0 0 0 0 0 0 0 0 0 0 0 0 0 0 0 0 0 0 0 0 0 0 0 0 0 0 0 0 0 0 0 0 0 0\n",
      " 0 0 0 0 0 0 0 0 0 0 0 0 0 0 0 0 0 0 0 0 0 0 0 0 0 0 0 0 0 0 0 0 0 0 0 0 0\n",
      " 0 0 0 0 0 0 0 0 0 0 0 0 0 0 0 0 0 0 0 0 0 0 0 0 0 0 0 0 0 0 0 0 0 0 0 0 0\n",
      " 0 0 0 0 0 0 0 0 0 0 0 0 0 0 0 0 0 0 0 0 0 0 0 0 0 0 0 0 0 0 0 0 0 0 0 0 0\n",
      " 0 0 0 0 0 0 0 0 0 0 0 0 0 0 0 0 0 0 0 0 0 0 0 0 0 0 0 0 0 0 0 0 0 0 0 0 0\n",
      " 0 0 0 0 0 0 0 0 0 0 0 0 0 0 0 0 0 0 0 0 0 0 0 0 0 0 0 0 0 0 0 0 0 0 0 0 0\n",
      " 0 0 0 0 0 0 0 0 0 0 0 0 0 0 0 0 0 0 0 0 0 0 0 0 0 0 0 0 0 0 0 0 0 0 0 0 0\n",
      " 0 0 0 0 0 0 0 0 0 0 0 0 0 0 0 0 0 0 0 0 0 0 0 0 0 0 0 0 0 0 0 0 0 0 0 0 0\n",
      " 0 0 0 0 0 0 0 0 0 0 0 0 0 0 0 0 0 0 0 0 0 0 0 0 0 0 0 0 0 0 0 0 0 0 0 0 0\n",
      " 0 0 0 0 0 0 0 0 0 0 0 0 0 0 0 0 0 0 0 0 0 0 0 0 0 0 0 0 0 0 0 0 0 1 0 1 1\n",
      " 1 1 1 1 1 1 1 1 1 1 1 1 1 1 1 1 1 1 1 1 1 1 1 1 1 1 1 1 1 1 1 1 1 1 1 1 1\n",
      " 1 1 1 1 1 1 1 1 1 1 1 1 1 1 1 1 1 1 1 1 1 1 1 1 1 1 1 1 1 1 1 1 1 1 1 1 1\n",
      " 1 1 1 1 1 1 1 1 1 1 1 1 1 1 1 1 1 1 1 1 1 1 1 1 1 1 1 1 1 1 1 1 1 1 1 1 1\n",
      " 1 1 1 1 1 1 1 1 1 1 1 1 1 0 1 1 1 1 1 1 1 1 1 1 1 1 1 1 1 1 1 1 1 1 1 1 1\n",
      " 1 1 1 1 1 1 1 1 1 1 1 1 1 1 1 1 1 1 1 1 1 1 1 1 1 1 1 1 1 1 1 1 1 1 1 1 1\n",
      " 1 1 1 1 1 1 1 1 1 1 1 1 1 1 1 1 1 1 1 1 1 1 1 1 1 1 1 1 1 1 1 1 1 1 1 1 1\n",
      " 1 1 1 1 1 1 1 1 1 1 1 1 1 1 1 1 1 1 1 1 1 1 1 1 1 1 1 1 1 1 1 1 1 1 1 1 1\n",
      " 1 1 1 1 1 1 1 1 1 1 1 1 1 1 1 1 1 1 1 1 1 1 1 1 1 1 1 1 1 1 1 1 1 1 1 1 1\n",
      " 1 1 1 1 1 1 1 1 1 1 1 1 1 1 1 1 1 1 1 1 1 1 1 1 1 1 1 1 1 1 1 1 1 1 1 1 1\n",
      " 1 1 1 1 1 1 1 1 1 1 1 1 1 1 1 1 1 1 1 1 1 1 1 1 1 1 1 1 1 1 1 1 1 1 1 1 1\n",
      " 1 1 1 1 1 1 1 1 1 1 1 1 1 1 1 1 1 1 1 1 1 1 1 1 1 1 1 1 1 1 1 1 1 1 1 1 1\n",
      " 1 1 1 1 1 1 1 1 1 1 1 1 1 1 1 1 1 1 1 1 1 1 1 1 1 1 1 1 1 1 1 1 1 1]\n",
      "predicted class: ['BENING', 'BENING', 'BENING', 'BENING', 'BENING', 'BENING', 'BENING', 'BENING', 'BENING', 'BENING', 'BENING', 'BENING', 'BENING', 'BENING', 'BENING', 'BENING', 'BENING', 'BENING', 'BENING', 'BENING', 'BENING', 'BENING', 'BENING', 'BENING', 'BENING', 'BENING', 'BENING', 'DrDoS_SSDP', 'BENING', 'BENING', 'BENING', 'BENING', 'BENING', 'BENING', 'BENING', 'BENING', 'BENING', 'BENING', 'BENING', 'BENING', 'BENING', 'BENING', 'BENING', 'BENING', 'BENING', 'BENING', 'BENING', 'BENING', 'BENING', 'BENING', 'BENING', 'BENING', 'BENING', 'BENING', 'BENING', 'BENING', 'BENING', 'BENING', 'BENING', 'BENING', 'BENING', 'BENING', 'BENING', 'BENING', 'BENING', 'BENING', 'BENING', 'BENING', 'BENING', 'BENING', 'BENING', 'BENING', 'BENING', 'BENING', 'BENING', 'BENING', 'BENING', 'BENING', 'BENING', 'BENING', 'BENING', 'BENING', 'BENING', 'BENING', 'BENING', 'BENING', 'BENING', 'BENING', 'BENING', 'BENING', 'BENING', 'BENING', 'BENING', 'BENING', 'BENING', 'BENING', 'BENING', 'BENING', 'BENING', 'BENING', 'BENING', 'BENING', 'BENING', 'BENING', 'BENING', 'BENING', 'BENING', 'BENING', 'BENING', 'BENING', 'BENING', 'BENING', 'BENING', 'BENING', 'BENING', 'BENING', 'BENING', 'BENING', 'BENING', 'BENING', 'BENING', 'BENING', 'BENING', 'BENING', 'BENING', 'BENING', 'BENING', 'BENING', 'BENING', 'BENING', 'BENING', 'BENING', 'BENING', 'BENING', 'BENING', 'BENING', 'BENING', 'BENING', 'BENING', 'BENING', 'BENING', 'BENING', 'BENING', 'BENING', 'BENING', 'BENING', 'BENING', 'BENING', 'BENING', 'BENING', 'BENING', 'BENING', 'BENING', 'BENING', 'BENING', 'BENING', 'BENING', 'BENING', 'BENING', 'BENING', 'BENING', 'BENING', 'BENING', 'BENING', 'BENING', 'BENING', 'BENING', 'BENING', 'BENING', 'BENING', 'BENING', 'BENING', 'BENING', 'BENING', 'BENING', 'BENING', 'BENING', 'BENING', 'BENING', 'BENING', 'BENING', 'BENING', 'BENING', 'BENING', 'BENING', 'BENING', 'BENING', 'BENING', 'BENING', 'BENING', 'BENING', 'BENING', 'BENING', 'BENING', 'BENING', 'BENING', 'BENING', 'BENING', 'BENING', 'BENING', 'BENING', 'BENING', 'BENING', 'BENING', 'BENING', 'BENING', 'BENING', 'BENING', 'BENING', 'BENING', 'BENING', 'BENING', 'BENING', 'BENING', 'BENING', 'BENING', 'BENING', 'BENING', 'BENING', 'BENING', 'BENING', 'BENING', 'BENING', 'BENING', 'BENING', 'BENING', 'BENING', 'BENING', 'BENING', 'BENING', 'BENING', 'BENING', 'BENING', 'BENING', 'BENING', 'BENING', 'BENING', 'BENING', 'BENING', 'BENING', 'BENING', 'BENING', 'BENING', 'BENING', 'BENING', 'BENING', 'BENING', 'BENING', 'BENING', 'BENING', 'BENING', 'BENING', 'BENING', 'BENING', 'BENING', 'BENING', 'BENING', 'BENING', 'BENING', 'BENING', 'BENING', 'BENING', 'BENING', 'BENING', 'BENING', 'BENING', 'BENING', 'BENING', 'BENING', 'BENING', 'BENING', 'BENING', 'BENING', 'BENING', 'BENING', 'BENING', 'BENING', 'BENING', 'BENING', 'BENING', 'BENING', 'BENING', 'BENING', 'BENING', 'BENING', 'BENING', 'BENING', 'BENING', 'BENING', 'BENING', 'BENING', 'BENING', 'BENING', 'BENING', 'BENING', 'BENING', 'BENING', 'BENING', 'BENING', 'BENING', 'BENING', 'BENING', 'BENING', 'BENING', 'BENING', 'BENING', 'BENING', 'BENING', 'BENING', 'BENING', 'BENING', 'BENING', 'BENING', 'BENING', 'BENING', 'BENING', 'BENING', 'BENING', 'BENING', 'BENING', 'BENING', 'BENING', 'BENING', 'BENING', 'BENING', 'BENING', 'BENING', 'BENING', 'BENING', 'BENING', 'BENING', 'BENING', 'BENING', 'BENING', 'BENING', 'BENING', 'BENING', 'BENING', 'BENING', 'BENING', 'BENING', 'BENING', 'BENING', 'BENING', 'BENING', 'BENING', 'BENING', 'BENING', 'BENING', 'BENING', 'BENING', 'BENING', 'BENING', 'BENING', 'BENING', 'BENING', 'BENING', 'BENING', 'BENING', 'BENING', 'BENING', 'BENING', 'BENING', 'BENING', 'BENING', 'BENING', 'BENING', 'BENING', 'BENING', 'BENING', 'BENING', 'BENING', 'BENING', 'BENING', 'BENING', 'BENING', 'BENING', 'BENING', 'BENING', 'BENING', 'BENING', 'BENING', 'BENING', 'BENING', 'BENING', 'BENING', 'BENING', 'BENING', 'BENING', 'BENING', 'BENING', 'BENING', 'BENING', 'BENING', 'BENING', 'BENING', 'BENING', 'BENING', 'BENING', 'BENING', 'BENING', 'BENING', 'BENING', 'BENING', 'BENING', 'BENING', 'BENING', 'BENING', 'BENING', 'BENING', 'BENING', 'BENING', 'BENING', 'BENING', 'BENING', 'BENING', 'BENING', 'BENING', 'BENING', 'BENING', 'BENING', 'BENING', 'BENING', 'BENING', 'BENING', 'BENING', 'BENING', 'BENING', 'BENING', 'BENING', 'BENING', 'BENING', 'BENING', 'BENING', 'BENING', 'BENING', 'BENING', 'BENING', 'BENING', 'BENING', 'DrDoS_SSDP', 'BENING', 'DrDoS_SSDP', 'DrDoS_SSDP', 'DrDoS_SSDP', 'DrDoS_SSDP', 'DrDoS_SSDP', 'DrDoS_SSDP', 'DrDoS_SSDP', 'DrDoS_SSDP', 'DrDoS_SSDP', 'DrDoS_SSDP', 'DrDoS_SSDP', 'DrDoS_SSDP', 'DrDoS_SSDP', 'DrDoS_SSDP', 'DrDoS_SSDP', 'DrDoS_SSDP', 'DrDoS_SSDP', 'DrDoS_SSDP', 'DrDoS_SSDP', 'DrDoS_SSDP', 'DrDoS_SSDP', 'DrDoS_SSDP', 'DrDoS_SSDP', 'DrDoS_SSDP', 'DrDoS_SSDP', 'DrDoS_SSDP', 'DrDoS_SSDP', 'DrDoS_SSDP', 'DrDoS_SSDP', 'DrDoS_SSDP', 'DrDoS_SSDP', 'DrDoS_SSDP', 'DrDoS_SSDP', 'DrDoS_SSDP', 'DrDoS_SSDP', 'DrDoS_SSDP', 'DrDoS_SSDP', 'DrDoS_SSDP', 'DrDoS_SSDP', 'DrDoS_SSDP', 'DrDoS_SSDP', 'DrDoS_SSDP', 'DrDoS_SSDP', 'DrDoS_SSDP', 'DrDoS_SSDP', 'DrDoS_SSDP', 'DrDoS_SSDP', 'DrDoS_SSDP', 'DrDoS_SSDP', 'DrDoS_SSDP', 'DrDoS_SSDP', 'DrDoS_SSDP', 'DrDoS_SSDP', 'DrDoS_SSDP', 'DrDoS_SSDP', 'DrDoS_SSDP', 'DrDoS_SSDP', 'DrDoS_SSDP', 'DrDoS_SSDP', 'DrDoS_SSDP', 'DrDoS_SSDP', 'DrDoS_SSDP', 'DrDoS_SSDP', 'DrDoS_SSDP', 'DrDoS_SSDP', 'DrDoS_SSDP', 'DrDoS_SSDP', 'DrDoS_SSDP', 'DrDoS_SSDP', 'DrDoS_SSDP', 'DrDoS_SSDP', 'DrDoS_SSDP', 'DrDoS_SSDP', 'DrDoS_SSDP', 'DrDoS_SSDP', 'DrDoS_SSDP', 'DrDoS_SSDP', 'DrDoS_SSDP', 'DrDoS_SSDP', 'DrDoS_SSDP', 'DrDoS_SSDP', 'DrDoS_SSDP', 'DrDoS_SSDP', 'DrDoS_SSDP', 'DrDoS_SSDP', 'DrDoS_SSDP', 'DrDoS_SSDP', 'DrDoS_SSDP', 'DrDoS_SSDP', 'DrDoS_SSDP', 'DrDoS_SSDP', 'DrDoS_SSDP', 'DrDoS_SSDP', 'DrDoS_SSDP', 'DrDoS_SSDP', 'DrDoS_SSDP', 'DrDoS_SSDP', 'DrDoS_SSDP', 'DrDoS_SSDP', 'DrDoS_SSDP', 'DrDoS_SSDP', 'DrDoS_SSDP', 'DrDoS_SSDP', 'DrDoS_SSDP', 'DrDoS_SSDP', 'DrDoS_SSDP', 'DrDoS_SSDP', 'DrDoS_SSDP', 'DrDoS_SSDP', 'DrDoS_SSDP', 'DrDoS_SSDP', 'DrDoS_SSDP', 'DrDoS_SSDP', 'DrDoS_SSDP', 'DrDoS_SSDP', 'DrDoS_SSDP', 'DrDoS_SSDP', 'DrDoS_SSDP', 'DrDoS_SSDP', 'DrDoS_SSDP', 'DrDoS_SSDP', 'DrDoS_SSDP', 'DrDoS_SSDP', 'DrDoS_SSDP', 'DrDoS_SSDP', 'DrDoS_SSDP', 'BENING', 'DrDoS_SSDP', 'DrDoS_SSDP', 'DrDoS_SSDP', 'DrDoS_SSDP', 'DrDoS_SSDP', 'DrDoS_SSDP', 'DrDoS_SSDP', 'DrDoS_SSDP', 'DrDoS_SSDP', 'DrDoS_SSDP', 'DrDoS_SSDP', 'DrDoS_SSDP', 'DrDoS_SSDP', 'DrDoS_SSDP', 'DrDoS_SSDP', 'DrDoS_SSDP', 'DrDoS_SSDP', 'DrDoS_SSDP', 'DrDoS_SSDP', 'DrDoS_SSDP', 'DrDoS_SSDP', 'DrDoS_SSDP', 'DrDoS_SSDP', 'DrDoS_SSDP', 'DrDoS_SSDP', 'DrDoS_SSDP', 'DrDoS_SSDP', 'DrDoS_SSDP', 'DrDoS_SSDP', 'DrDoS_SSDP', 'DrDoS_SSDP', 'DrDoS_SSDP', 'DrDoS_SSDP', 'DrDoS_SSDP', 'DrDoS_SSDP', 'DrDoS_SSDP', 'DrDoS_SSDP', 'DrDoS_SSDP', 'DrDoS_SSDP', 'DrDoS_SSDP', 'DrDoS_SSDP', 'DrDoS_SSDP', 'DrDoS_SSDP', 'DrDoS_SSDP', 'DrDoS_SSDP', 'DrDoS_SSDP', 'DrDoS_SSDP', 'DrDoS_SSDP', 'DrDoS_SSDP', 'DrDoS_SSDP', 'DrDoS_SSDP', 'DrDoS_SSDP', 'DrDoS_SSDP', 'DrDoS_SSDP', 'DrDoS_SSDP', 'DrDoS_SSDP', 'DrDoS_SSDP', 'DrDoS_SSDP', 'DrDoS_SSDP', 'DrDoS_SSDP', 'DrDoS_SSDP', 'DrDoS_SSDP', 'DrDoS_SSDP', 'DrDoS_SSDP', 'DrDoS_SSDP', 'DrDoS_SSDP', 'DrDoS_SSDP', 'DrDoS_SSDP', 'DrDoS_SSDP', 'DrDoS_SSDP', 'DrDoS_SSDP', 'DrDoS_SSDP', 'DrDoS_SSDP', 'DrDoS_SSDP', 'DrDoS_SSDP', 'DrDoS_SSDP', 'DrDoS_SSDP', 'DrDoS_SSDP', 'DrDoS_SSDP', 'DrDoS_SSDP', 'DrDoS_SSDP', 'DrDoS_SSDP', 'DrDoS_SSDP', 'DrDoS_SSDP', 'DrDoS_SSDP', 'DrDoS_SSDP', 'DrDoS_SSDP', 'DrDoS_SSDP', 'DrDoS_SSDP', 'DrDoS_SSDP', 'DrDoS_SSDP', 'DrDoS_SSDP', 'DrDoS_SSDP', 'DrDoS_SSDP', 'DrDoS_SSDP', 'DrDoS_SSDP', 'DrDoS_SSDP', 'DrDoS_SSDP', 'DrDoS_SSDP', 'DrDoS_SSDP', 'DrDoS_SSDP', 'DrDoS_SSDP', 'DrDoS_SSDP', 'DrDoS_SSDP', 'DrDoS_SSDP', 'DrDoS_SSDP', 'DrDoS_SSDP', 'DrDoS_SSDP', 'DrDoS_SSDP', 'DrDoS_SSDP', 'DrDoS_SSDP', 'DrDoS_SSDP', 'DrDoS_SSDP', 'DrDoS_SSDP', 'DrDoS_SSDP', 'DrDoS_SSDP', 'DrDoS_SSDP', 'DrDoS_SSDP', 'DrDoS_SSDP', 'DrDoS_SSDP', 'DrDoS_SSDP', 'DrDoS_SSDP', 'DrDoS_SSDP', 'DrDoS_SSDP', 'DrDoS_SSDP', 'DrDoS_SSDP', 'DrDoS_SSDP', 'DrDoS_SSDP', 'DrDoS_SSDP', 'DrDoS_SSDP', 'DrDoS_SSDP', 'DrDoS_SSDP', 'DrDoS_SSDP', 'DrDoS_SSDP', 'DrDoS_SSDP', 'DrDoS_SSDP', 'DrDoS_SSDP', 'DrDoS_SSDP', 'DrDoS_SSDP', 'DrDoS_SSDP', 'DrDoS_SSDP', 'DrDoS_SSDP', 'DrDoS_SSDP', 'DrDoS_SSDP', 'DrDoS_SSDP', 'DrDoS_SSDP', 'DrDoS_SSDP', 'DrDoS_SSDP', 'DrDoS_SSDP', 'DrDoS_SSDP', 'DrDoS_SSDP', 'DrDoS_SSDP', 'DrDoS_SSDP', 'DrDoS_SSDP', 'DrDoS_SSDP', 'DrDoS_SSDP', 'DrDoS_SSDP', 'DrDoS_SSDP', 'DrDoS_SSDP', 'DrDoS_SSDP', 'DrDoS_SSDP', 'DrDoS_SSDP', 'DrDoS_SSDP', 'DrDoS_SSDP', 'DrDoS_SSDP', 'DrDoS_SSDP', 'DrDoS_SSDP', 'DrDoS_SSDP', 'DrDoS_SSDP', 'DrDoS_SSDP', 'DrDoS_SSDP', 'DrDoS_SSDP', 'DrDoS_SSDP', 'DrDoS_SSDP', 'DrDoS_SSDP', 'DrDoS_SSDP', 'DrDoS_SSDP', 'DrDoS_SSDP', 'DrDoS_SSDP', 'DrDoS_SSDP', 'DrDoS_SSDP', 'DrDoS_SSDP', 'DrDoS_SSDP', 'DrDoS_SSDP', 'DrDoS_SSDP', 'DrDoS_SSDP', 'DrDoS_SSDP', 'DrDoS_SSDP', 'DrDoS_SSDP', 'DrDoS_SSDP', 'DrDoS_SSDP', 'DrDoS_SSDP', 'DrDoS_SSDP', 'DrDoS_SSDP', 'DrDoS_SSDP', 'DrDoS_SSDP', 'DrDoS_SSDP', 'DrDoS_SSDP', 'DrDoS_SSDP', 'DrDoS_SSDP', 'DrDoS_SSDP', 'DrDoS_SSDP', 'DrDoS_SSDP', 'DrDoS_SSDP', 'DrDoS_SSDP', 'DrDoS_SSDP', 'DrDoS_SSDP', 'DrDoS_SSDP', 'DrDoS_SSDP', 'DrDoS_SSDP', 'DrDoS_SSDP', 'DrDoS_SSDP', 'DrDoS_SSDP', 'DrDoS_SSDP', 'DrDoS_SSDP', 'DrDoS_SSDP', 'DrDoS_SSDP', 'DrDoS_SSDP', 'DrDoS_SSDP', 'DrDoS_SSDP', 'DrDoS_SSDP', 'DrDoS_SSDP', 'DrDoS_SSDP', 'DrDoS_SSDP', 'DrDoS_SSDP', 'DrDoS_SSDP', 'DrDoS_SSDP', 'DrDoS_SSDP', 'DrDoS_SSDP', 'DrDoS_SSDP', 'DrDoS_SSDP', 'DrDoS_SSDP', 'DrDoS_SSDP', 'DrDoS_SSDP', 'DrDoS_SSDP', 'DrDoS_SSDP', 'DrDoS_SSDP', 'DrDoS_SSDP', 'DrDoS_SSDP', 'DrDoS_SSDP', 'DrDoS_SSDP', 'DrDoS_SSDP', 'DrDoS_SSDP', 'DrDoS_SSDP', 'DrDoS_SSDP', 'DrDoS_SSDP', 'DrDoS_SSDP', 'DrDoS_SSDP', 'DrDoS_SSDP', 'DrDoS_SSDP', 'DrDoS_SSDP', 'DrDoS_SSDP', 'DrDoS_SSDP', 'DrDoS_SSDP', 'DrDoS_SSDP', 'DrDoS_SSDP', 'DrDoS_SSDP', 'DrDoS_SSDP', 'DrDoS_SSDP', 'DrDoS_SSDP', 'DrDoS_SSDP', 'DrDoS_SSDP', 'DrDoS_SSDP', 'DrDoS_SSDP', 'DrDoS_SSDP', 'DrDoS_SSDP', 'DrDoS_SSDP', 'DrDoS_SSDP', 'DrDoS_SSDP', 'DrDoS_SSDP', 'DrDoS_SSDP', 'DrDoS_SSDP', 'DrDoS_SSDP', 'DrDoS_SSDP', 'DrDoS_SSDP', 'DrDoS_SSDP', 'DrDoS_SSDP', 'DrDoS_SSDP', 'DrDoS_SSDP', 'DrDoS_SSDP', 'DrDoS_SSDP', 'DrDoS_SSDP', 'DrDoS_SSDP', 'DrDoS_SSDP', 'DrDoS_SSDP', 'DrDoS_SSDP', 'DrDoS_SSDP', 'DrDoS_SSDP', 'DrDoS_SSDP', 'DrDoS_SSDP', 'DrDoS_SSDP', 'DrDoS_SSDP', 'DrDoS_SSDP', 'DrDoS_SSDP', 'DrDoS_SSDP', 'DrDoS_SSDP', 'DrDoS_SSDP', 'DrDoS_SSDP', 'DrDoS_SSDP', 'DrDoS_SSDP', 'DrDoS_SSDP', 'DrDoS_SSDP', 'DrDoS_SSDP', 'DrDoS_SSDP', 'DrDoS_SSDP', 'DrDoS_SSDP', 'DrDoS_SSDP', 'DrDoS_SSDP', 'DrDoS_SSDP', 'DrDoS_SSDP', 'DrDoS_SSDP', 'DrDoS_SSDP', 'DrDoS_SSDP', 'DrDoS_SSDP', 'DrDoS_SSDP', 'DrDoS_SSDP']\n",
      "accuracy:        0.9966101694915255\n"
     ]
    }
   ],
   "source": [
    "print(\"ground truth:    {}\".format(datapoints[1]))\n",
    "print(\"prediction:      {}\".format(result2['predicted_labels']))\n",
    "print(\"predicted class: {}\".format(result2['predicted_classes']))\n",
    "print(\"accuracy:        {}\".format(result2['testing_accuracy']))"
   ]
  },
  {
   "cell_type": "code",
   "execution_count": 11,
   "metadata": {},
   "outputs": [],
   "source": [
    "from sklearn.metrics import classification_report, recall_score\n",
    "from sklearn.metrics import f1_score, accuracy_score, precision_score, make_scorer\n",
    "\n",
    "#Metrics\n",
    "classification = classification_report(datapoints[1], result2['predicted_labels'])\n",
    "confusion = confusion_matrix(datapoints[1], result2['predicted_labels'])\n",
    "    \n",
    "    # Accuracy\n",
    "accuracy = round(accuracy_score(datapoints[1], result2['predicted_labels']),5)\n",
    "    \n",
    "    # Recall\n",
    "recall = round(recall_score(datapoints[1], result2['predicted_labels'], average='macro')*100,5)\n",
    "    \n",
    "    # Precision\n",
    "precision = round(precision_score(datapoints[1], result2['predicted_labels'], average='weighted')*100,5)\n",
    "    \n",
    "    # F1\n",
    "f1 = round(f1_score(datapoints[1], result2['predicted_labels'], average='weighted')*100,5)"
   ]
  },
  {
   "cell_type": "code",
   "execution_count": 12,
   "metadata": {},
   "outputs": [
    {
     "name": "stdout",
     "output_type": "stream",
     "text": [
      "0.99661\n",
      "99.66089\n",
      "99.66127\n",
      "99.66102\n",
      "0.003390000000000004\n"
     ]
    }
   ],
   "source": [
    "print(accuracy)\n",
    "print(recall)\n",
    "print(precision)\n",
    "print(f1)\n",
    "print(1-accuracy)"
   ]
  }
 ],
 "metadata": {
  "kernelspec": {
   "display_name": "Python 3",
   "language": "python",
   "name": "python3"
  },
  "language_info": {
   "codemirror_mode": {
    "name": "ipython",
    "version": 3
   },
   "file_extension": ".py",
   "mimetype": "text/x-python",
   "name": "python",
   "nbconvert_exporter": "python",
   "pygments_lexer": "ipython3",
   "version": "3.7.1"
  }
 },
 "nbformat": 4,
 "nbformat_minor": 4
}
